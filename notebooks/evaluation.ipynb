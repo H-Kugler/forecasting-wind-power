{
 "cells": [
  {
   "cell_type": "markdown",
   "metadata": {},
   "source": [
    "# Evaluation - Notebook\n",
    "\n",
    "Within this document, we carry out an assessment of the implemented models. Furthermore, hyperparameter optimization is executed for each model wherever feasible. The following models are subjected to evaluation:\n",
    "\n",
    "1. Baseline\n",
    "2. Moving Average\n",
    "3. Various variants of linear regression\n",
    "4. Neural Network\n",
    "5. XGBoost\n",
    "6. LSTM\n",
    "\n",
    "For a more detailed description of the models, please refeir to their corresponding section."
   ]
  },
  {
   "cell_type": "code",
   "execution_count": 1,
   "metadata": {},
   "outputs": [],
   "source": [
    "# TODO: look into pipeline framework for hyperparameter tuning\n",
    "# ###: 1. look into warning for large window sizes\n",
    "# ###: 2. polynomial features for linear regression \n",
    "# ###: 3. Different Features (difficult) -> solution might be time-series split\n",
    "# TODO: do analysis also on brazilian data\n",
    "# TODO: Rewrite loading.py file\n",
    "# TODO: try the transfer learning approach\n",
    "# TODO: Plotting\n",
    "# TODO: implement more models\n",
    "# TODO: implement command line interface - optional \n",
    "# TODO: implement logging - optional\n",
    "# TODO: Documentation \n",
    "# TODO: Hand-in"
   ]
  },
  {
   "cell_type": "code",
   "execution_count": 2,
   "metadata": {},
   "outputs": [],
   "source": [
    "### imports\n",
    "import numpy as np\n",
    "import pandas as pd\n",
    "from sklearn.pipeline import Pipeline\n",
    "from sklearn.model_selection import TimeSeriesSplit\n",
    "\n",
    "import sys\n",
    "\n",
    "sys.path.append(\"..\")\n",
    "sys.path.append(\"../src\")\n",
    "\n",
    "# plotting\n",
    "import src.DataHandling.visualization as vis\n",
    "\n",
    "# models\n",
    "from src.Models.ma import MovingAverage\n",
    "from src.Models.lr import Regression\n",
    "\n",
    "# Transformers\n",
    "from src.DataHandling.preprocessing import (\n",
    "    DataCleaner,\n",
    "    SupervisedTransformer,\n",
    "    train_test_split,\n",
    ")\n",
    "\n",
    "# hyperparameter tuning\n",
    "from src.Models.selection import GridSearch"
   ]
  },
  {
   "cell_type": "code",
   "execution_count": 3,
   "metadata": {},
   "outputs": [
    {
     "data": {
      "text/html": [
       "<div>\n",
       "<style scoped>\n",
       "    .dataframe tbody tr th:only-of-type {\n",
       "        vertical-align: middle;\n",
       "    }\n",
       "\n",
       "    .dataframe tbody tr th {\n",
       "        vertical-align: top;\n",
       "    }\n",
       "\n",
       "    .dataframe thead th {\n",
       "        text-align: right;\n",
       "    }\n",
       "</style>\n",
       "<table border=\"1\" class=\"dataframe\">\n",
       "  <thead>\n",
       "    <tr style=\"text-align: right;\">\n",
       "      <th></th>\n",
       "      <th>Power (kW)</th>\n",
       "      <th>Wind speed (m/s)</th>\n",
       "    </tr>\n",
       "    <tr>\n",
       "      <th>Date</th>\n",
       "      <th></th>\n",
       "      <th></th>\n",
       "    </tr>\n",
       "  </thead>\n",
       "  <tbody>\n",
       "    <tr>\n",
       "      <th>2016-01-21 17:40:00</th>\n",
       "      <td>90.379997</td>\n",
       "      <td>7.97</td>\n",
       "    </tr>\n",
       "    <tr>\n",
       "      <th>2016-01-21 17:50:00</th>\n",
       "      <td>1.330000</td>\n",
       "      <td>8.20</td>\n",
       "    </tr>\n",
       "    <tr>\n",
       "      <th>2016-01-21 18:00:00</th>\n",
       "      <td>240.740005</td>\n",
       "      <td>9.04</td>\n",
       "    </tr>\n",
       "    <tr>\n",
       "      <th>2016-01-21 18:10:00</th>\n",
       "      <td>-2.770000</td>\n",
       "      <td>9.26</td>\n",
       "    </tr>\n",
       "    <tr>\n",
       "      <th>2016-01-21 18:20:00</th>\n",
       "      <td>-2.350000</td>\n",
       "      <td>9.50</td>\n",
       "    </tr>\n",
       "    <tr>\n",
       "      <th>...</th>\n",
       "      <td>...</td>\n",
       "      <td>...</td>\n",
       "    </tr>\n",
       "    <tr>\n",
       "      <th>2021-06-30 23:10:00</th>\n",
       "      <td>113.809998</td>\n",
       "      <td>3.85</td>\n",
       "    </tr>\n",
       "    <tr>\n",
       "      <th>2021-06-30 23:20:00</th>\n",
       "      <td>128.860001</td>\n",
       "      <td>4.06</td>\n",
       "    </tr>\n",
       "    <tr>\n",
       "      <th>2021-06-30 23:30:00</th>\n",
       "      <td>112.220001</td>\n",
       "      <td>4.00</td>\n",
       "    </tr>\n",
       "    <tr>\n",
       "      <th>2021-06-30 23:40:00</th>\n",
       "      <td>70.589996</td>\n",
       "      <td>3.59</td>\n",
       "    </tr>\n",
       "    <tr>\n",
       "      <th>2021-06-30 23:50:00</th>\n",
       "      <td>56.119999</td>\n",
       "      <td>3.42</td>\n",
       "    </tr>\n",
       "  </tbody>\n",
       "</table>\n",
       "<p>286166 rows × 2 columns</p>\n",
       "</div>"
      ],
      "text/plain": [
       "                     Power (kW)  Wind speed (m/s)\n",
       "Date                                             \n",
       "2016-01-21 17:40:00   90.379997              7.97\n",
       "2016-01-21 17:50:00    1.330000              8.20\n",
       "2016-01-21 18:00:00  240.740005              9.04\n",
       "2016-01-21 18:10:00   -2.770000              9.26\n",
       "2016-01-21 18:20:00   -2.350000              9.50\n",
       "...                         ...               ...\n",
       "2021-06-30 23:10:00  113.809998              3.85\n",
       "2021-06-30 23:20:00  128.860001              4.06\n",
       "2021-06-30 23:30:00  112.220001              4.00\n",
       "2021-06-30 23:40:00   70.589996              3.59\n",
       "2021-06-30 23:50:00   56.119999              3.42\n",
       "\n",
       "[286166 rows x 2 columns]"
      ]
     },
     "execution_count": 3,
     "metadata": {},
     "output_type": "execute_result"
    }
   ],
   "source": [
    "# load cleaned data\n",
    "turbine_brit = pd.read_csv(f\"../data/cleaned/turbine_brit_{2}.csv\")\n",
    "turbine_braz = pd.read_csv(f\"../data/cleaned/turbine_braz_{1}.csv\")\n",
    "\n",
    "# use date column as index and convert to datetime\n",
    "turbine_brit[\"Date\"] = pd.to_datetime(turbine_brit[\"Date\"])\n",
    "turbine_brit.set_index(\"Date\", inplace=True)\n",
    "\n",
    "turbine_braz[\"Date\"] = pd.to_datetime(turbine_braz[\"Date\"])\n",
    "turbine_braz.set_index(\"Date\", inplace=True)\n",
    "\n",
    "DATA = {\"British\": turbine_brit, \"Brazilian\": turbine_braz}"
   ]
  },
  {
   "cell_type": "code",
   "execution_count": 8,
   "metadata": {},
   "outputs": [
    {
     "data": {
      "text/plain": [
       "True"
      ]
     },
     "execution_count": 8,
     "metadata": {},
     "output_type": "execute_result"
    }
   ],
   "source": [
    "# load data\n",
    "data = \n",
    "\n",
    "cleaner = DataCleaner(\n",
    "    features=[\"Power (kW)\", \"Wind speed (m/s)\"]\n",
    ")\n",
    "turbine_brit.equals(cleaner.transform(turbine_brit))"
   ]
  },
  {
   "cell_type": "markdown",
   "metadata": {},
   "source": [
    "For understandibility.... models do transformation to a supervised learning problem inherently..."
   ]
  },
  {
   "cell_type": "code",
   "execution_count": null,
   "metadata": {},
   "outputs": [],
   "source": [
    "benchmarks = pd.read_csv(\"../results_wind.csv\")\n",
    "test_start = benchmarks[\"test_start\"][0]\n",
    "test_end = benchmarks[\"test_end\"][0]\n",
    "\n",
    "X_train, y_train, X_test, y_test = train_test_split(\n",
    "    test_start=test_start, test_end=test_end, df=turbine_brit, target_var=\"Power (kW)\"\n",
    ")\n",
    "\n",
    "X_train.shape, y_train.shape, X_test.shape, y_test.shape"
   ]
  },
  {
   "cell_type": "markdown",
   "metadata": {},
   "source": [
    "Before, we begin blablabla ... there are shared parameters across models like window_size etc."
   ]
  },
  {
   "cell_type": "code",
   "execution_count": null,
   "metadata": {},
   "outputs": [],
   "source": [
    "# set up parameters that are the same for all models\n",
    "param_grid = {\n",
    "    \"st__window_size\": [1, 5, 10],\n",
    "    \"st__horizon\": [1, 6, 144],\n",
    "}"
   ]
  },
  {
   "cell_type": "markdown",
   "metadata": {},
   "source": [
    "## 1. Moving Average\n",
    "\n",
    "**Explanation of the Model:** \n",
    "\n",
    "In contrast to the Baseline model, the Moving Average model offers the flexibility of selecting a window size. This window size determines the number of preceding time steps taken into account for generating forecasts. Furthermore, there is an option to specify a discount factor (default = 1), which regulates the extent of reduction in influence for more distant past time steps. This strategy is similar to how a discount factor is used in calculating future rewards within the framework of reinforcement learning. Note that when a window size of one is chosen, the Moving Average model is identical with the Baseline model."
   ]
  },
  {
   "cell_type": "code",
   "execution_count": null,
   "metadata": {},
   "outputs": [],
   "source": [
    "ma_pipe = Pipeline(\n",
    "    [\n",
    "        (\"st\", SupervisedTransformer()),\n",
    "        (\"Model\", MovingAverage()),\n",
    "    ]\n",
    ")\n",
    "\n",
    "param_grid[\"Model__discount\"] = np.linspace(0.5, 1., 3)\n",
    "\n",
    "grid_search_ma = GridSearch(ma_pipe, param_grid)\n",
    "grid_search_ma.fit(X_train, y_train, X_test, y_test)"
   ]
  },
  {
   "cell_type": "code",
   "execution_count": null,
   "metadata": {},
   "outputs": [],
   "source": [
    "# delete key of param_grid that is specific to the model\n",
    "del param_grid[\"Model__discount\"]\n",
    "param_grid"
   ]
  },
  {
   "cell_type": "markdown",
   "metadata": {},
   "source": [
    "## 2. Different kinds of Linear Regression\n",
    "\n",
    "**Explanation of the Models:**\n"
   ]
  },
  {
   "cell_type": "code",
   "execution_count": null,
   "metadata": {},
   "outputs": [],
   "source": [
    "lr_pipe = Pipeline(\n",
    "    [\n",
    "        (\"st\", SupervisedTransformer()),\n",
    "        (\"Model\", Regression()),\n",
    "    ]\n",
    ")\n",
    "\n",
    "param_grid[\"Model__model\"] = [\"linear\", \"ridge\"]\n",
    "param_grid[\"Model__alpha\"] = np.logspace(-3, 1, 5)"
   ]
  },
  {
   "cell_type": "code",
   "execution_count": null,
   "metadata": {},
   "outputs": [],
   "source": [
    "param_grid[\"Model__alpha\"]"
   ]
  },
  {
   "cell_type": "code",
   "execution_count": null,
   "metadata": {},
   "outputs": [],
   "source": [
    "grid_search_lr = GridSearch(lr_pipe, param_grid)\n",
    "grid_search_lr.fit(X_train, y_train, X_test, y_test)\n",
    "grid_search_lr.best_params"
   ]
  },
  {
   "cell_type": "code",
   "execution_count": null,
   "metadata": {},
   "outputs": [],
   "source": [
    "# delete key of param_grid that is specific to the model\n",
    "del param_grid[\"Model__model\"]\n",
    "del param_grid[\"Model__alpha\"]\n",
    "param_grid"
   ]
  }
 ],
 "metadata": {
  "kernelspec": {
   "display_name": "res_env",
   "language": "python",
   "name": "python3"
  },
  "language_info": {
   "codemirror_mode": {
    "name": "ipython",
    "version": 3
   },
   "file_extension": ".py",
   "mimetype": "text/x-python",
   "name": "python",
   "nbconvert_exporter": "python",
   "pygments_lexer": "ipython3",
   "version": "3.10.0"
  },
  "orig_nbformat": 4
 },
 "nbformat": 4,
 "nbformat_minor": 2
}
