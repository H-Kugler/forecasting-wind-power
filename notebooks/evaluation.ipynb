{
 "cells": [
  {
   "cell_type": "markdown",
   "metadata": {},
   "source": [
    "# Evaluation - Notebook\n",
    "\n",
    "Within this document, we carry out an assessment of the implemented models. Furthermore, hyperparameter optimization is executed for each model wherever feasible. The following models are subjected to evaluation:\n",
    "\n",
    "1. Baseline\n",
    "2. Moving Average\n",
    "3. Various variants of linear regression\n",
    "4. Neural Network\n",
    "5. XGBoost\n",
    "6. LSTM\n",
    "\n",
    "For a more detailed description of the models, please refeir to their corresponding section."
   ]
  },
  {
   "cell_type": "code",
   "execution_count": 1,
   "metadata": {},
   "outputs": [],
   "source": [
    "# TODO: look into pipeline framework for hyperparameter tuning\n",
    "# ###: 1. try different window sizes for the models (where possible) (Part of hyperparameter tuning)\n",
    "# ###: 2. discount rate for moving average\n",
    "# ###: 3. alpha for lasso and ridge regression\n",
    "# ###: 4. polynomial features for linear regression \n",
    "# ###: 5. Different Features (difficult)\n",
    "# TODO: Rewrite loading.py file\n",
    "# TODO: try the transfer learning approach\n",
    "# TODO: implement command line interface\n",
    "# TODO: implement logging\n",
    "# TODO: Documentation \n",
    "# TODO: Hand-in"
   ]
  },
  {
   "cell_type": "code",
   "execution_count": 2,
   "metadata": {},
   "outputs": [],
   "source": [
    "# imports\n",
    "import numpy as np\n",
    "import pandas as pd\n",
    "from sklearn.pipeline import Pipeline\n",
    "\n",
    "from sklearn.model_selection import TimeSeriesSplit\n",
    "\n",
    "\n",
    "\n",
    "import sys\n",
    "\n",
    "sys.path.append(\"..\")\n",
    "sys.path.append(\"../src\")\n",
    "\n",
    "# from src.DataHandling.processing import supervised_transform\n",
    "import src.DataHandling.visualization as vis\n",
    "\n",
    "# models\n",
    "from src.Models.ma import MovingAverage\n",
    "from src.Models.lr import Regression\n",
    "\n",
    "# Transformers\n",
    "from src.DataHandling.preprocessing import (\n",
    "    # DataCleaner,\n",
    "    SupervisedTransformer,\n",
    "    train_test_split,\n",
    ")\n",
    "\n",
    "# hyperparameter tuning\n",
    "from src.Models.selection import GridSearch"
   ]
  },
  {
   "cell_type": "code",
   "execution_count": 3,
   "metadata": {},
   "outputs": [],
   "source": [
    "# load cleaned data\n",
    "turbine_brit = pd.read_csv(f\"../data/cleaned/turbine_brit_{2}.csv\")\n",
    "turbine_braz = pd.read_csv(f\"../data/cleaned/turbine_braz_{1}.csv\")\n",
    "\n",
    "# use date column as index and convert to datetime\n",
    "turbine_brit[\"Date\"] = pd.to_datetime(turbine_brit[\"Date\"])\n",
    "turbine_brit.set_index(\"Date\", inplace=True)\n",
    "\n",
    "turbine_braz[\"Date\"] = pd.to_datetime(turbine_braz[\"Date\"])\n",
    "turbine_braz.set_index(\"Date\", inplace=True)\n",
    "\n",
    "DATA = {\"British\": turbine_brit, \"Brazilian\": turbine_braz}"
   ]
  },
  {
   "cell_type": "markdown",
   "metadata": {},
   "source": [
    "For understandibility.... models do transformation to a supervised learning problem inherently..."
   ]
  },
  {
   "cell_type": "markdown",
   "metadata": {},
   "source": [
    "Before, we begin blablabla ... their are shared parameters across models like window_size etc."
   ]
  },
  {
   "cell_type": "code",
   "execution_count": 4,
   "metadata": {},
   "outputs": [],
   "source": [
    "benchmarks = pd.read_csv(\"../results_wind.csv\")\n",
    "test_start = benchmarks[\"test_start\"][0]\n",
    "test_end = benchmarks[\"test_end\"][0]\n",
    "\n",
    "\n",
    "X_train, y_train, X_test, y_test = train_test_split(\n",
    "    test_start=test_start, test_end=test_end, df=turbine_brit, target_var=\"Power (kW)\"\n",
    ")"
   ]
  },
  {
   "cell_type": "code",
   "execution_count": 5,
   "metadata": {},
   "outputs": [],
   "source": [
    "param_grid = {\n",
    "    \"st__horizon\": [1, 6, 144],\n",
    "    \"st__window_size\": [1, 6, 10],\n",
    "}\n",
    "pipeline = Pipeline(\n",
    "    [\n",
    "        (\"st\", SupervisedTransformer()),\n",
    "        (\"Model\", MovingAverage()),\n",
    "    ]\n",
    ")"
   ]
  },
  {
   "cell_type": "markdown",
   "metadata": {},
   "source": [
    "## 1. Moving Average\n",
    "\n",
    "**Explanation of the Model:** \n",
    "\n",
    "In contrast to the Baseline model, the Moving Average model offers the flexibility of selecting a window size. This window size determines the number of preceding time steps taken into account for generating forecasts. Furthermore, there is an option to specify a discount factor (default = 1), which regulates the extent of reduction in influence for more distant past time steps. This strategy is similar to how a discount factor is used in calculating future rewards within the framework of reinforcement learning. Note that when a window size of one is chosen, the Moving Average model is identical with the Baseline model."
   ]
  },
  {
   "cell_type": "code",
   "execution_count": 6,
   "metadata": {},
   "outputs": [],
   "source": [
    "param_grid[\"Model__discount\"] = np.linspace(0.1, 1., 10)\n",
    "\n",
    "grid_search = GridSearch(pipeline, param_grid)\n",
    "grid_search.fit(X_train, y_train, X_test, y_test)"
   ]
  },
  {
   "cell_type": "code",
   "execution_count": 7,
   "metadata": {},
   "outputs": [
    {
     "data": {
      "text/plain": [
       "{'Model__discount': 0.2, 'st__horizon': 1, 'st__window_size': 10}"
      ]
     },
     "execution_count": 7,
     "metadata": {},
     "output_type": "execute_result"
    }
   ],
   "source": [
    "grid_search.best_params"
   ]
  },
  {
   "cell_type": "markdown",
   "metadata": {},
   "source": [
    "## 3. Different kinds of Linear Regression"
   ]
  },
  {
   "cell_type": "code",
   "execution_count": null,
   "metadata": {},
   "outputs": [],
   "source": []
  }
 ],
 "metadata": {
  "kernelspec": {
   "display_name": "res_env",
   "language": "python",
   "name": "python3"
  },
  "language_info": {
   "codemirror_mode": {
    "name": "ipython",
    "version": 3
   },
   "file_extension": ".py",
   "mimetype": "text/x-python",
   "name": "python",
   "nbconvert_exporter": "python",
   "pygments_lexer": "ipython3",
   "version": "3.10.0"
  },
  "orig_nbformat": 4
 },
 "nbformat": 4,
 "nbformat_minor": 2
}
