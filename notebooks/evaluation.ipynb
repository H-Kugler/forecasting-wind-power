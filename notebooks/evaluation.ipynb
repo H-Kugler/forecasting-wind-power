{
 "cells": [
  {
   "cell_type": "markdown",
   "metadata": {},
   "source": [
    "# Evaluation - Notebook\n",
    "\n",
    "Within this document, we carry out an assessment of the implemented models. Furthermore, hyperparameter optimization is executed for each model wherever feasible. The following models are subjected to evaluation:\n",
    "\n",
    "1. Moving Average\n",
    "2. Various variants of linear regression\n",
    "3. Neural Network\n",
    "4. XGBoost\n",
    "5. LSTM\n",
    "\n",
    "For a more detailed description of the models, please refer to their corresponding section."
   ]
  },
  {
   "cell_type": "code",
   "execution_count": 15,
   "metadata": {},
   "outputs": [],
   "source": [
    "# TODO: look into pipeline framework for hyperparameter tuning\n",
    "# ###: 1. look into warning for large window sizes\n",
    "# ###: 3. Different Features (difficult) -> solution might be time-series split\n",
    "#                                        -> solution: power set of features and normal hyperparameter tuning\n",
    "# TODO: User can choose which data set and which turbine to use\n",
    "# TODO: try the transfer learning approach\n",
    "# TODO: Plotting\n",
    "# TODO: implement more models\n",
    "# TODO: implement command line interface - optional\n",
    "# TODO: implement logging - optional\n",
    "# TODO: Documentation\n",
    "# TODO: Hand-in\n",
    "\n",
    "### Author: Harald Kugler"
   ]
  },
  {
   "cell_type": "code",
   "execution_count": 16,
   "metadata": {},
   "outputs": [],
   "source": [
    "### imports\n",
    "import numpy as np\n",
    "import pandas as pd\n",
    "from sklearn.pipeline import Pipeline\n",
    "from sklearn.preprocessing import PolynomialFeatures\n",
    "from sklearn.model_selection import TimeSeriesSplit\n",
    "\n",
    "import sys\n",
    "\n",
    "sys.path.append(\"..\")\n",
    "sys.path.append(\"../src\")\n",
    "\n",
    "from src.DataHandling.loading import load_data  # loading\n",
    "import src.DataHandling.visualization as vis  # plotting\n",
    "from src.Models.selection import GridSearch  # hyperparameter tuning\n",
    "\n",
    "### models\n",
    "from src.Models.ma import MovingAverage\n",
    "from src.Models.lr import Regression\n",
    "from src.Models.nn import NeuralNetwork, LSTM\n",
    "from src.Models.xgb import XGB\n",
    "\n",
    "### Transformers\n",
    "from src.DataHandling.preprocessing import (\n",
    "    DataCleaner,\n",
    "    SupervisedTransformer,\n",
    "    Normalizer,\n",
    "    train_test_split,\n",
    ")"
   ]
  },
  {
   "cell_type": "markdown",
   "metadata": {},
   "source": [
    "Prior to the assessment of the models, we have to make a few considerations regarding related to the data:\n",
    "\n",
    "We decide to leverage the pipeline framework provided by sklearn (QUELLE). This enhances the convenience of tasks such as hyperparameter optimization and effectively utilizing the models. Consequently, all data transformations tailored to this project have been developed in a manner consistent with the transformers found in sklearn.preprocessing. Overall, three specific transformers where implemented:\n",
    "\n",
    "1. __DataCleaner__: This Transformer effectively executes all the steps outlined in ``data_inspection.ipynb``, resulting in a cleaned dataset free of NaN values. Note that employing this transformer could potentially alter the dataset's shape.\n",
    "2. __SupervisedTransformer__: Given that we are working with time series data, it is necessary to preprocess the dataset to make it suitable for supervised learning algorithms like linear regression. This transformer accomplishes this by introducing new columns that contain shifted versions of the dataset. The number of shifts applied is determined by the \"window_size\" attribute. Furthermore, the transformer holds a \"horizon\" attribute, which specifies the number of time steps into the future the model should predict. This attribute determines the magnitude of the first shift applied to the dataset. A demonstration of this transformer is provided below.\n",
    "3. __Normalizer__: This class is a subclass of the StandardScaler transformer in sklearn.preprocessing, which enhances its functionality by allowing it to return a pandas DataFrame when you call the transform(X) method. In that way no information about column names and index is lost.\n",
    "\n",
    "Additionally, the PolynomialFeatures transformer is used."
   ]
  },
  {
   "cell_type": "markdown",
   "metadata": {},
   "source": [
    "\n",
    "In the following you can set the ID of the turbine you want to analyze for each dataset. Be aware that benchmarks are only provided for the second turbine within the Kelmarsh dataset and the first in the Beberine dataset."
   ]
  },
  {
   "cell_type": "code",
   "execution_count": 17,
   "metadata": {},
   "outputs": [],
   "source": [
    "### set global variables here ###\n",
    "TURBINE_ID_BRITISH = 2\n",
    "TURBINE_ID_BRAZILIAN = 1"
   ]
  },
  {
   "cell_type": "code",
   "execution_count": 18,
   "metadata": {},
   "outputs": [
    {
     "data": {
      "text/plain": [
       "((286187, 2), (52560, 2))"
      ]
     },
     "execution_count": 18,
     "metadata": {},
     "output_type": "execute_result"
    }
   ],
   "source": [
    "# load data\n",
    "data_brit = load_data(turbine_id=TURBINE_ID_BRITISH, which_data=\"British\")\n",
    "data_braz = load_data(turbine_id=TURBINE_ID_BRAZILIAN, which_data=\"Brazilian\")\n",
    "\n",
    "cleaner = DataCleaner(\n",
    "    features=[\"Power (kW)\", \"Wind speed (m/s)\"],\n",
    "    rename_features=[\"power\", \"wind_speed\"],\n",
    ")\n",
    "turbine_brit = cleaner.transform(data_brit)\n",
    "\n",
    "cleaner = DataCleaner(\n",
    "    features=[\"active_power_total\", \"wind_speed\"],\n",
    "    rename_features=[\"power\", \"wind_speed\"],\n",
    ")\n",
    "turbine_braz = cleaner.transform(data_braz)\n",
    "turbine_brit.shape, turbine_braz.shape"
   ]
  },
  {
   "cell_type": "markdown",
   "metadata": {},
   "source": [
    "For understandibility.... models do transformation to a supervised learning problem inherently..."
   ]
  },
  {
   "cell_type": "code",
   "execution_count": 19,
   "metadata": {},
   "outputs": [
    {
     "data": {
      "text/plain": [
       "((233627, 2), (233627,), (52560, 2), (52560,))"
      ]
     },
     "execution_count": 19,
     "metadata": {},
     "output_type": "execute_result"
    }
   ],
   "source": [
    "benchmarks = pd.read_csv(\"../results/benchmarks.csv\")\n",
    "test_start = benchmarks[\"test_start\"][0]\n",
    "test_end = benchmarks[\"test_end\"][0]\n",
    "\n",
    "X_train, y_train, X_test, y_test = train_test_split(\n",
    "    df=turbine_brit, test_start=test_start, test_end=test_end, target_var=\"power\"\n",
    ")\n",
    "\n",
    "X_train.shape, y_train.shape, X_test.shape, y_test.shape"
   ]
  },
  {
   "cell_type": "markdown",
   "metadata": {},
   "source": [
    "Now, we would like to begin with evaluating models. To this in a scientific manner we perform a gridsearch over a discrete set of hyperparameters. "
   ]
  },
  {
   "cell_type": "code",
   "execution_count": 20,
   "metadata": {},
   "outputs": [],
   "source": [
    "# set up parameters that are the same for all models\n",
    "param_grid = {\n",
    "    \"st__window_size\": [1, 5, 50],\n",
    "    \"st__horizon\": [1, 6, 144],\n",
    "}"
   ]
  },
  {
   "cell_type": "markdown",
   "metadata": {},
   "source": [
    "## 1. Moving Average\n",
    "\n",
    "**Explanation of the Model:** \n",
    "\n",
    "In contrast to the Baseline model, the Moving Average model offers the flexibility of selecting a window size. This window size determines the number of preceding time steps taken into account for generating forecasts. Furthermore, there is an option to specify a discount factor (default = 1), which regulates the extent of reduction in influence for more distant past time steps. This strategy is similar to how a discount factor is used in calculating future rewards within the framework of reinforcement learning. Note that when a window size of one is chosen, the Moving Average model is identical with the Baseline model."
   ]
  },
  {
   "cell_type": "code",
   "execution_count": 21,
   "metadata": {},
   "outputs": [],
   "source": [
    "### WARNING - takes a long time to run ###\n",
    "### ~ 10 min on my machine but I have a slow CPU (intel i5, 1.6 GHz) ###\n",
    "### results dataframe is stored in csv file (also in repo) ###\n",
    "do_gridsearch = False  # set to True if you want to run the gridsearch\n",
    "\n",
    "ma_pipe = Pipeline(\n",
    "    [\n",
    "        (\"st\", SupervisedTransformer()),\n",
    "        (\"Model\", MovingAverage()),\n",
    "    ]\n",
    ")\n",
    "param_grid[\"Model__discount\"] = np.round(np.linspace(0.7, 1.0, 5), 2)\n",
    "grid_search_ma = GridSearch(ma_pipe, param_grid)\n",
    "\n",
    "if do_gridsearch:\n",
    "    grid_search_ma.fit(X_train, y_train, X_test, y_test, verbose=True)\n",
    "    grid_search_ma.results.to_csv(\"../results/results_gs_ma.csv\")\n",
    "else:\n",
    "    grid_search_ma.update(pd.read_csv(\"../results/results_gs_ma.csv\").set_index(list(param_grid.keys())))"
   ]
  },
  {
   "cell_type": "code",
   "execution_count": 22,
   "metadata": {},
   "outputs": [
    {
     "data": {
      "image/png": "[encoded data removed]",
      "text/plain": [
       "<Figure size 1625.86x500 with 3 Axes>"
      ]
     },
     "metadata": {},
     "output_type": "display_data"
    }
   ],
   "source": [
    "vis.plot_gridsearch(\n",
    "    results_df=grid_search_ma.results,\n",
    "    hue=\"Model__discount\",\n",
    "    col=\"st__horizon\",\n",
    "    row=None,\n",
    "    sharey=False,\n",
    ")"
   ]
  },
  {
   "cell_type": "markdown",
   "metadata": {},
   "source": [
    "**Analysis:**\n",
    "- window_size has the most influence for $discount = 1$. This makes sense as all steps in the past have the same impact on the results as the last step. Intuitively there should be a discount smaller than 1. "
   ]
  },
  {
   "cell_type": "code",
   "execution_count": 23,
   "metadata": {},
   "outputs": [],
   "source": [
    "# delete key of param_grid that is specific to the model\n",
    "del param_grid[\"Model__discount\"]"
   ]
  },
  {
   "cell_type": "markdown",
   "metadata": {},
   "source": [
    "## 2. Various variants of Linear Regression\n",
    "\n",
    "**Explanation of the Models:**\n",
    "\n",
    "1. Linear Regression: \n",
    "2. Ridge Regression:\n",
    "3. Lasso Regression: state objective --- Note, that there exists no closed-form solution. \n",
    "4. Remarks to Computational Complexity:\n",
    "    - Discussed Regression variants have complexity $O(m^3)$ where $m$ is #features.\n",
    "    - That is why large window_sizes (like 500) might become a problem. Computational complexity is then $O((500 \\cdot len(features))^3)$ which is not feasible anymore.\n",
    "    - "
   ]
  },
  {
   "cell_type": "code",
   "execution_count": 24,
   "metadata": {},
   "outputs": [],
   "source": [
    "### WARNING - takes a long time to run ###\n",
    "### ~ 20 min on my machine but I have a slow CPU (intel i5, 1.6 GHz) ###\n",
    "### results dataframe is stored in csv file (also in repo) ###\n",
    "do_gridsearch = False  # set to True if you want to run the gridsearch\n",
    "\n",
    "lr_pipe = Pipeline(\n",
    "    [\n",
    "        (\"normalizer\", Normalizer()),\n",
    "        (\"st\", SupervisedTransformer()),\n",
    "        (\"pf\", PolynomialFeatures()),\n",
    "        (\"Model\", Regression()),\n",
    "    ]\n",
    ")\n",
    "\n",
    "param_grid[\"pf__degree\"] = [1, 2]\n",
    "param_grid[\"Model__model\"] = [\"linear\", \"ridge\"]\n",
    "param_grid[\"st__window_size\"] = [1, 5, 50]\n",
    "# param_grid[\"Model__alpha\"] = np.logspace(-3, 1, 5)\n",
    "\n",
    "grid_search_lr = GridSearch(model=lr_pipe, param_grid=param_grid)\n",
    "\n",
    "if do_gridsearch:\n",
    "    grid_search_lr.fit(X_train, y_train, X_test, y_test, verbose=True)\n",
    "    ### store results dataframe in csv file\n",
    "    grid_search_lr.results.to_csv(\"../results/results_gs_lr.csv\")\n",
    "else:\n",
    "    grid_search_lr.results = pd.read_csv(\"../results/results_gr_lr.csv\").set_index(\n",
    "        list(param_grid.keys())\n",
    "    )"
   ]
  },
  {
   "cell_type": "code",
   "execution_count": 25,
   "metadata": {},
   "outputs": [
    {
     "data": {
      "image/png": "[encoded data removed]",
      "text/plain": [
       "<Figure size 1587.74x500 with 3 Axes>"
      ]
     },
     "metadata": {},
     "output_type": "display_data"
    }
   ],
   "source": [
    "vis.plot_gridsearch(\n",
    "    results_df=grid_search_lr.results,\n",
    "    hue=\"pf__degree\",\n",
    "    col=\"st__horizon\",\n",
    "    row=None,\n",
    "    sharey=False,\n",
    ")"
   ]
  },
  {
   "cell_type": "code",
   "execution_count": 26,
   "metadata": {},
   "outputs": [],
   "source": [
    "# delete keys of param_grid that is specific to the model\n",
    "del param_grid[\"Model__model\"]\n",
    "# del param_grid[\"Model__alpha\"]\n",
    "del param_grid[\"pf__degree\"]"
   ]
  },
  {
   "cell_type": "markdown",
   "metadata": {},
   "source": [
    "## 3. XG Boost Regression\n",
    "\n",
    "**Explanation of the Model:**\n"
   ]
  },
  {
   "cell_type": "code",
   "execution_count": 27,
   "metadata": {},
   "outputs": [
    {
     "name": "stdout",
     "output_type": "stream",
     "text": [
      "Finished 1 out of 9\n",
      "Finished 4 out of 9\n",
      "Finished 7 out of 9\n"
     ]
    }
   ],
   "source": [
    "do_gridsearch = False  # set to True if you want to run the gridsearch\n",
    "\n",
    "xgb_pipe = Pipeline(\n",
    "     [\n",
    "        (\"normalizer\", Normalizer()),\n",
    "        (\"st\", SupervisedTransformer()),\n",
    "        (\"Model\", XGB()),\n",
    "    ]\n",
    ")\n",
    "\n",
    "grid_search_xgb = GridSearch(model=xgb_pipe, param_grid=param_grid)\n",
    "grid_search_xgb.fit(X_train, y_train, X_test, y_test, verbose=True)"
   ]
  },
  {
   "cell_type": "code",
   "execution_count": 29,
   "metadata": {},
   "outputs": [],
   "source": [
    "# store results\n",
    "grid_search_xgb.results.to_csv(\"../results/results_gs_xgb.csv\")"
   ]
  },
  {
   "cell_type": "markdown",
   "metadata": {},
   "source": [
    "## 4. Neural Network\n",
    "\n",
    "**Explanation of the model:**\n",
    "- still supervised learning problem \n",
    "- advantages in comparison with linear regression: polynomial features not necessary"
   ]
  },
  {
   "cell_type": "code",
   "execution_count": 28,
   "metadata": {},
   "outputs": [
    {
     "name": "stdout",
     "output_type": "stream",
     "text": [
      "Epoch: 0, loss: nan\n",
      "Epoch: 1, loss: nan\n",
      "Epoch: 2, loss: nan\n",
      "Epoch: 3, loss: nan\n",
      "Epoch: 4, loss: nan\n",
      "Epoch: 5, loss: nan\n",
      "Epoch: 6, loss: nan\n",
      "Epoch: 7, loss: nan\n",
      "Epoch: 8, loss: nan\n"
     ]
    },
    {
     "ename": "KeyboardInterrupt",
     "evalue": "",
     "output_type": "error",
     "traceback": [
      "\u001b[0;31m---------------------------------------------------------------------------\u001b[0m",
      "\u001b[0;31mKeyboardInterrupt\u001b[0m                         Traceback (most recent call last)",
      "Cell \u001b[0;32mIn[28], line 10\u001b[0m\n\u001b[1;32m      1\u001b[0m nn_pipe \u001b[39m=\u001b[39m Pipeline(\n\u001b[1;32m      2\u001b[0m     [\n\u001b[1;32m      3\u001b[0m         \u001b[39m#(\"normalizer\", Normalizer()),\u001b[39;00m\n\u001b[0;32m   (...)\u001b[0m\n\u001b[1;32m      6\u001b[0m     ]\n\u001b[1;32m      7\u001b[0m )\n\u001b[1;32m      9\u001b[0m grid_search_nn \u001b[39m=\u001b[39m GridSearch(nn_pipe, param_grid)\n\u001b[0;32m---> 10\u001b[0m grid_search_nn\u001b[39m.\u001b[39;49mfit(X_train, y_train, X_test, y_test)\n",
      "File \u001b[0;32m~/Desktop/Renewable Energy Systems/forecasting-wind-power/notebooks/../src/Models/selection.py:54\u001b[0m, in \u001b[0;36mGridSearch.fit\u001b[0;34m(self, X_train, y_train, X_test, y_test, refit, verbose)\u001b[0m\n\u001b[1;32m     52\u001b[0m \u001b[39mfor\u001b[39;00m i, params \u001b[39min\u001b[39;00m \u001b[39menumerate\u001b[39m(\u001b[39mself\u001b[39m\u001b[39m.\u001b[39mgrid):\n\u001b[1;32m     53\u001b[0m     \u001b[39mself\u001b[39m\u001b[39m.\u001b[39mmodel\u001b[39m.\u001b[39mset_params(\u001b[39m*\u001b[39m\u001b[39m*\u001b[39mparams)\n\u001b[0;32m---> 54\u001b[0m     \u001b[39mself\u001b[39;49m\u001b[39m.\u001b[39;49mmodel\u001b[39m.\u001b[39;49mfit(X_train, y_train)\n\u001b[1;32m     55\u001b[0m     rmse, mae \u001b[39m=\u001b[39m \u001b[39mself\u001b[39m\u001b[39m.\u001b[39mmodel\u001b[39m.\u001b[39mscore(X_test, y_test)\n\u001b[1;32m     56\u001b[0m     results\u001b[39m.\u001b[39mloc[\u001b[39mtuple\u001b[39m(params\u001b[39m.\u001b[39mvalues()), \u001b[39m\"\u001b[39m\u001b[39mRMSE\u001b[39m\u001b[39m\"\u001b[39m] \u001b[39m=\u001b[39m rmse\n",
      "File \u001b[0;32m/opt/miniconda3/envs/res_env/lib/python3.10/site-packages/sklearn/pipeline.py:405\u001b[0m, in \u001b[0;36mPipeline.fit\u001b[0;34m(self, X, y, **fit_params)\u001b[0m\n\u001b[1;32m    403\u001b[0m     \u001b[39mif\u001b[39;00m \u001b[39mself\u001b[39m\u001b[39m.\u001b[39m_final_estimator \u001b[39m!=\u001b[39m \u001b[39m\"\u001b[39m\u001b[39mpassthrough\u001b[39m\u001b[39m\"\u001b[39m:\n\u001b[1;32m    404\u001b[0m         fit_params_last_step \u001b[39m=\u001b[39m fit_params_steps[\u001b[39mself\u001b[39m\u001b[39m.\u001b[39msteps[\u001b[39m-\u001b[39m\u001b[39m1\u001b[39m][\u001b[39m0\u001b[39m]]\n\u001b[0;32m--> 405\u001b[0m         \u001b[39mself\u001b[39;49m\u001b[39m.\u001b[39;49m_final_estimator\u001b[39m.\u001b[39;49mfit(Xt, y, \u001b[39m*\u001b[39;49m\u001b[39m*\u001b[39;49mfit_params_last_step)\n\u001b[1;32m    407\u001b[0m \u001b[39mreturn\u001b[39;00m \u001b[39mself\u001b[39m\n",
      "File \u001b[0;32m~/Desktop/Renewable Energy Systems/forecasting-wind-power/notebooks/../src/Models/nn.py:48\u001b[0m, in \u001b[0;36mNeuralNetwork.fit\u001b[0;34m(self, X, y)\u001b[0m\n\u001b[1;32m     46\u001b[0m n_samples \u001b[39m=\u001b[39m X\u001b[39m.\u001b[39mshape[\u001b[39m0\u001b[39m]\n\u001b[1;32m     47\u001b[0m y \u001b[39m=\u001b[39m y\u001b[39m.\u001b[39miloc[\u001b[39m-\u001b[39mn_samples:]\n\u001b[0;32m---> 48\u001b[0m \u001b[39mself\u001b[39;49m\u001b[39m.\u001b[39;49m_train(X, y)\n\u001b[1;32m     49\u001b[0m \u001b[39mreturn\u001b[39;00m \u001b[39mself\u001b[39m\n",
      "File \u001b[0;32m~/Desktop/Renewable Energy Systems/forecasting-wind-power/notebooks/../src/Models/nn.py:85\u001b[0m, in \u001b[0;36mNeuralNetwork._train\u001b[0;34m(self, X, y, max_epochs, lr)\u001b[0m\n\u001b[1;32m     83\u001b[0m output \u001b[39m=\u001b[39m \u001b[39mself\u001b[39m\u001b[39m.\u001b[39mforward(batch_X)\n\u001b[1;32m     84\u001b[0m loss \u001b[39m=\u001b[39m criterion(output, batch_y)\n\u001b[0;32m---> 85\u001b[0m loss\u001b[39m.\u001b[39;49mbackward()\n\u001b[1;32m     86\u001b[0m optimizer\u001b[39m.\u001b[39mstep()\n\u001b[1;32m     87\u001b[0m losses \u001b[39m=\u001b[39m np\u001b[39m.\u001b[39mappend(losses, loss\u001b[39m.\u001b[39mitem())\n",
      "File \u001b[0;32m/opt/miniconda3/envs/res_env/lib/python3.10/site-packages/torch/_tensor.py:487\u001b[0m, in \u001b[0;36mTensor.backward\u001b[0;34m(self, gradient, retain_graph, create_graph, inputs)\u001b[0m\n\u001b[1;32m    477\u001b[0m \u001b[39mif\u001b[39;00m has_torch_function_unary(\u001b[39mself\u001b[39m):\n\u001b[1;32m    478\u001b[0m     \u001b[39mreturn\u001b[39;00m handle_torch_function(\n\u001b[1;32m    479\u001b[0m         Tensor\u001b[39m.\u001b[39mbackward,\n\u001b[1;32m    480\u001b[0m         (\u001b[39mself\u001b[39m,),\n\u001b[0;32m   (...)\u001b[0m\n\u001b[1;32m    485\u001b[0m         inputs\u001b[39m=\u001b[39minputs,\n\u001b[1;32m    486\u001b[0m     )\n\u001b[0;32m--> 487\u001b[0m torch\u001b[39m.\u001b[39;49mautograd\u001b[39m.\u001b[39;49mbackward(\n\u001b[1;32m    488\u001b[0m     \u001b[39mself\u001b[39;49m, gradient, retain_graph, create_graph, inputs\u001b[39m=\u001b[39;49minputs\n\u001b[1;32m    489\u001b[0m )\n",
      "File \u001b[0;32m/opt/miniconda3/envs/res_env/lib/python3.10/site-packages/torch/autograd/__init__.py:200\u001b[0m, in \u001b[0;36mbackward\u001b[0;34m(tensors, grad_tensors, retain_graph, create_graph, grad_variables, inputs)\u001b[0m\n\u001b[1;32m    195\u001b[0m     retain_graph \u001b[39m=\u001b[39m create_graph\n\u001b[1;32m    197\u001b[0m \u001b[39m# The reason we repeat same the comment below is that\u001b[39;00m\n\u001b[1;32m    198\u001b[0m \u001b[39m# some Python versions print out the first line of a multi-line function\u001b[39;00m\n\u001b[1;32m    199\u001b[0m \u001b[39m# calls in the traceback and some print out the last line\u001b[39;00m\n\u001b[0;32m--> 200\u001b[0m Variable\u001b[39m.\u001b[39;49m_execution_engine\u001b[39m.\u001b[39;49mrun_backward(  \u001b[39m# Calls into the C++ engine to run the backward pass\u001b[39;49;00m\n\u001b[1;32m    201\u001b[0m     tensors, grad_tensors_, retain_graph, create_graph, inputs,\n\u001b[1;32m    202\u001b[0m     allow_unreachable\u001b[39m=\u001b[39;49m\u001b[39mTrue\u001b[39;49;00m, accumulate_grad\u001b[39m=\u001b[39;49m\u001b[39mTrue\u001b[39;49;00m)\n",
      "\u001b[0;31mKeyboardInterrupt\u001b[0m: "
     ]
    }
   ],
   "source": [
    "nn_pipe = Pipeline(\n",
    "    [\n",
    "        #(\"normalizer\", Normalizer()),\n",
    "        (\"st\", SupervisedTransformer()),\n",
    "        (\"Model\", NeuralNetwork()),\n",
    "    ]\n",
    ")\n",
    "\n",
    "grid_search_nn = GridSearch(nn_pipe, param_grid)\n",
    "grid_search_nn.fit(X_train, y_train, X_test, y_test)"
   ]
  },
  {
   "cell_type": "code",
   "execution_count": null,
   "metadata": {},
   "outputs": [],
   "source": []
  }
 ],
 "metadata": {
  "kernelspec": {
   "display_name": "res_env",
   "language": "python",
   "name": "python3"
  },
  "language_info": {
   "codemirror_mode": {
    "name": "ipython",
    "version": 3
   },
   "file_extension": ".py",
   "mimetype": "text/x-python",
   "name": "python",
   "nbconvert_exporter": "python",
   "pygments_lexer": "ipython3",
   "version": "3.10.0"
  },
  "orig_nbformat": 4
 },
 "nbformat": 4,
 "nbformat_minor": 2
}
