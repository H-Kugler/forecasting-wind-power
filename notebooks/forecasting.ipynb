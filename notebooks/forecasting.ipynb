{
 "cells": [
  {
   "attachments": {},
   "cell_type": "markdown",
   "metadata": {},
   "source": [
    "In this notebook, we want to fit different models to the cleaned data from the 'data_inspection' notebook. We start with simple models like ARIMA and will work our way to pure deep learning."
   ]
  },
  {
   "attachments": {},
   "cell_type": "markdown",
   "metadata": {},
   "source": [
    "### 1. VARIMA\n",
    "\n",
    "[Medium Blog Entry](https://medium.com/mlearning-ai/multivariate-time-series-using-var-model-efa215371738)\n",
    "\n",
    "Explanation: \n",
    "\n",
    "The VARIMA model combines autoregressive (AR), integrated (I), and moving average (MA) components to capture the patterns and dynamics present in the data. Let's break down each component:\n",
    "\n",
    "- Autoregressive (AR) component: The AR component considers the relationship between each variable and its own past values. It assumes that the future values of a variable depend on its past values. The order of the AR component (AR order) determines the number of lagged observations used to predict the current value.\n",
    "- Integrated (I) component: The I component involves differencing the time series data to make it stationary. Stationarity means that the statistical properties of the series, such as mean and variance, do not change over time. Differencing helps remove trends or seasonality present in the data. The order of differencing (integration order) indicates the number of times differencing is applied to achieve stationarity.\n",
    "- Moving Average (MA) component: The MA component considers the relationship between each variable and the residual errors from past predictions. It assumes that the future values of a variable depend on the errors made by past predictions. The order of the MA component (MA order) represents the number of lagged forecast errors used to predict the current value."
   ]
  },
  {
   "cell_type": "code",
   "execution_count": null,
   "metadata": {},
   "outputs": [],
   "source": []
  },
  {
   "attachments": {},
   "cell_type": "markdown",
   "metadata": {},
   "source": [
    "### 2. Exponential Smoothing"
   ]
  },
  {
   "attachments": {},
   "cell_type": "markdown",
   "metadata": {},
   "source": [
    "### 3. Gradient Boosting Machines"
   ]
  },
  {
   "attachments": {},
   "cell_type": "markdown",
   "metadata": {},
   "source": [
    "### 4. Gaussian Processes"
   ]
  },
  {
   "attachments": {},
   "cell_type": "markdown",
   "metadata": {},
   "source": [
    "### 5. ODEs / PDEs"
   ]
  },
  {
   "attachments": {},
   "cell_type": "markdown",
   "metadata": {},
   "source": [
    "### 6. Prophet\n",
    "\n",
    "[Medium Blog Entry](https://medium.com/@bobrupakroy/yes-our-favorite-fbprophet-is-back-with-multivariate-forecasting-785fbe412731)"
   ]
  },
  {
   "attachments": {},
   "cell_type": "markdown",
   "metadata": {},
   "source": [
    "### 6. LSTMs\n",
    "\n",
    "[Medium Blog Entry](https://medium.com/@bobrupakroy/multi-variate-lstm-time-series-forecasting-1a736009f6d)"
   ]
  },
  {
   "attachments": {},
   "cell_type": "markdown",
   "metadata": {},
   "source": [
    "### 7. Analysis"
   ]
  },
  {
   "cell_type": "code",
   "execution_count": null,
   "metadata": {},
   "outputs": [],
   "source": []
  }
 ],
 "metadata": {
  "language_info": {
   "name": "python"
  },
  "orig_nbformat": 4
 },
 "nbformat": 4,
 "nbformat_minor": 2
}
