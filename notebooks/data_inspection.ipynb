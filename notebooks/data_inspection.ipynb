{
 "cells": [
  {
   "cell_type": "code",
   "execution_count": 38,
   "metadata": {},
   "outputs": [],
   "source": [
    "# imports \n",
    "import pandas as pd\n",
    "import numpy as np\n",
    "import matplotlib.pyplot as plt\n",
    "import seaborn as sns"
   ]
  },
  {
   "attachments": {},
   "cell_type": "markdown",
   "metadata": {},
   "source": [
    "# 1. British Windfarm"
   ]
  },
  {
   "attachments": {},
   "cell_type": "markdown",
   "metadata": {},
   "source": [
    "### 1.1. Load Datasets"
   ]
  },
  {
   "cell_type": "code",
   "execution_count": 39,
   "metadata": {},
   "outputs": [],
   "source": [
    "# load data into pandas dataframe\n",
    "turbine_one = pd.read_csv('../data/Kelmarsh_SCADA_2021_3087/Turbine_Data_Kelmarsh_1_2021-01-01_-_2021-07-01_228.csv', header=9)\n",
    "turbine_two = pd.read_csv('../data/Kelmarsh_SCADA_2021_3087/Turbine_Data_Kelmarsh_2_2021-01-01_-_2021-07-01_229.csv', header=9)\n",
    "turbine_three = pd.read_csv('../data/Kelmarsh_SCADA_2021_3087/Turbine_Data_Kelmarsh_3_2021-01-01_-_2021-07-01_230.csv', header=9)\n",
    "turbine_four = pd.read_csv('../data/Kelmarsh_SCADA_2021_3087/Turbine_Data_Kelmarsh_4_2021-01-01_-_2021-07-01_231.csv', header=9)\n",
    "turbine_five = pd.read_csv('../data/Kelmarsh_SCADA_2021_3087/Turbine_Data_Kelmarsh_5_2021-01-01_-_2021-07-01_232.csv', header=9)\n",
    "turbine_six = pd.read_csv('../data/Kelmarsh_SCADA_2021_3087/Turbine_Data_Kelmarsh_6_2021-01-01_-_2021-07-01_233.csv', header=9)"
   ]
  },
  {
   "cell_type": "code",
   "execution_count": 40,
   "metadata": {},
   "outputs": [
    {
     "name": "stdout",
     "output_type": "stream",
     "text": [
      "There exist 26064 data points for turbine 1\n",
      "There exist 26064 data points for turbine 2\n",
      "There exist 26064 data points for turbine 3\n",
      "There exist 26064 data points for turbine 4\n",
      "There exist 26064 data points for turbine 5\n",
      "There exist 26064 data points for turbine 6\n"
     ]
    }
   ],
   "source": [
    "# Extract only the first 28 columns, which contain the data we need\n",
    "turbine_one = turbine_one.iloc[:, :28]\n",
    "turbine_two = turbine_two.iloc[:, :28]\n",
    "turbine_three = turbine_three.iloc[:, :28]\n",
    "turbine_four = turbine_four.iloc[:, :28]\n",
    "turbine_five = turbine_five.iloc[:, :28]\n",
    "turbine_six = turbine_six.iloc[:, :28]\n",
    "\n",
    "# since we have to perform the same operations on each turbine, we can create a list of the dataframes and iterate through them\n",
    "turbine_list = [turbine_one, turbine_two, turbine_three, turbine_four, turbine_five, turbine_six]\n",
    "\n",
    "# print the keys of the first turbine to see what columns we have\n",
    "# print(turbine_one.keys())\n",
    "\n",
    "# rename the '# Date and time' column to 'Date' for easier access, convert it to pd.datetime and set it as the index\n",
    "for i, turbine in enumerate(turbine_list):\n",
    "    turbine.rename(columns={'# Date and time': 'Datetime'}, inplace=True)\n",
    "    turbine['Datetime'] = pd.to_datetime(turbine['Datetime'])\n",
    "    turbine.set_index('Datetime', inplace=True)\n",
    "    print(f\"There exist {len(turbine)} data points for turbine {i+1}\")"
   ]
  },
  {
   "attachments": {},
   "cell_type": "markdown",
   "metadata": {},
   "source": [
    "### 1.2. Cleaning Data"
   ]
  },
  {
   "cell_type": "code",
   "execution_count": 41,
   "metadata": {},
   "outputs": [
    {
     "name": "stdout",
     "output_type": "stream",
     "text": [
      "There exist 23275 data points for turbine 1 after removing NaN values\n",
      "There exist 23229 data points for turbine 2 after removing NaN values\n",
      "There exist 23236 data points for turbine 3 after removing NaN values\n",
      "There exist 23188 data points for turbine 4 after removing NaN values\n",
      "There exist 23177 data points for turbine 5 after removing NaN values\n",
      "There exist 23324 data points for turbine 6 after removing NaN values\n"
     ]
    }
   ],
   "source": [
    "# delete all rows that contain NaN values\n",
    "for i, turbine in enumerate(turbine_list):\n",
    "    turbine.dropna(inplace=True)\n",
    "    print(f\"There exist {len(turbine)} data points for turbine {i+1} after removing NaN values\")"
   ]
  },
  {
   "cell_type": "code",
   "execution_count": 42,
   "metadata": {},
   "outputs": [
    {
     "name": "stdout",
     "output_type": "stream",
     "text": [
      "There exist 0 duplicated rows in turbine 1\n",
      "There exist 0 duplicated rows in turbine 2\n",
      "There exist 0 duplicated rows in turbine 3\n",
      "There exist 0 duplicated rows in turbine 4\n",
      "There exist 0 duplicated rows in turbine 5\n",
      "There exist 0 duplicated rows in turbine 6\n"
     ]
    }
   ],
   "source": [
    "# check for duplicates\n",
    "for i, turbine in enumerate(turbine_list):\n",
    "    print(f\"There exist {len(turbine[turbine.duplicated()])} duplicated rows in turbine {i+1}\")"
   ]
  },
  {
   "attachments": {},
   "cell_type": "markdown",
   "metadata": {},
   "source": [
    "### 1.3. Plot relevant Variables"
   ]
  },
  {
   "cell_type": "code",
   "execution_count": null,
   "metadata": {},
   "outputs": [],
   "source": []
  },
  {
   "cell_type": "code",
   "execution_count": null,
   "metadata": {},
   "outputs": [],
   "source": []
  }
 ],
 "metadata": {
  "kernelspec": {
   "display_name": "res_env",
   "language": "python",
   "name": "python3"
  },
  "language_info": {
   "codemirror_mode": {
    "name": "ipython",
    "version": 3
   },
   "file_extension": ".py",
   "mimetype": "text/x-python",
   "name": "python",
   "nbconvert_exporter": "python",
   "pygments_lexer": "ipython3",
   "version": "3.10.0"
  },
  "orig_nbformat": 4
 },
 "nbformat": 4,
 "nbformat_minor": 2
}
