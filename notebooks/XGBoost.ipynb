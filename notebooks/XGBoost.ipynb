{
 "cells": [
  {
   "cell_type": "code",
   "execution_count": 1,
   "metadata": {},
   "outputs": [],
   "source": [
    "### imports\n",
    "import numpy as np\n",
    "import pandas as pd\n",
    "import ast\n",
    "from sklearn.pipeline import Pipeline\n",
    "from sklearn.model_selection import TimeSeriesSplit, RandomizedSearchCV\n",
    "from sklearn.base import clone\n",
    "\n",
    "import sys\n",
    "\n",
    "sys.path.append(\"..\")\n",
    "sys.path.append(\"../src\")\n",
    "\n",
    "from src.datahandling.loading import load_data  # loading\n",
    "import src.datahandling.visualization as vis  # plotting\n",
    "from src.models.xgb import XGB\n",
    "from src.datahandling.preprocessing import (\n",
    "    DataCleaner,\n",
    "    SupervisedTransformer,\n",
    "    FeatureSelector,\n",
    "    Normalizer,\n",
    "    train_test_split,\n",
    ")  # preprocessing\n",
    "\n",
    "### load benchmarks\n",
    "benchmarks = pd.read_csv(\"../results/benchmarks.csv\")"
   ]
  },
  {
   "cell_type": "markdown",
   "metadata": {},
   "source": [
    "# XG-Boost Regression\n",
    "\n",
    "XGBoost is an implementation of gradient boosted decision trees designed for speed and performance. \n",
    "\n",
    "\n",
    "Since we found in `notebooks/RegressionVariants.ipynb` that feature selection does not influence the performance of the regression models, we will stick with the features that are contained in both data sets."
   ]
  },
  {
   "cell_type": "code",
   "execution_count": 2,
   "metadata": {},
   "outputs": [],
   "source": [
    "model = Pipeline(\n",
    "    [\n",
    "        (\"norm\", Normalizer()),\n",
    "        (\"st\", SupervisedTransformer(encode_time=[\"hour\", \"month\"])),\n",
    "        (\"xgb\", XGB()),\n",
    "    ]\n",
    ")\n",
    "\n",
    "param_grid = {\n",
    "    \"st__window_size\": [8],\n",
    "    \"st__horizon\": [\"10min\", \"hourly\", \"daily\"],\n",
    "    \"xgb__learning_rate\": [0.01, 0.1, 0.2, 0.3],\n",
    "    \"xgb__n_estimators\": [100, 300, 500],\n",
    "    \"xgb__max_depth\": [3, 4, 5, 6],\n",
    "    \"xgb__min_child_weight\": [1, 2, 3, 4],\n",
    "}"
   ]
  },
  {
   "cell_type": "markdown",
   "metadata": {},
   "source": [
    "## British Dataset - Kelmarsh"
   ]
  },
  {
   "cell_type": "code",
   "execution_count": null,
   "metadata": {},
   "outputs": [],
   "source": [
    "### loading data\n",
    "TURBINE_ID = 2\n",
    "data_brit = load_data(turbine_id=TURBINE_ID, which_data=\"British\")\n",
    "\n",
    "### cleaning  data\n",
    "cleaner = DataCleaner(\n",
    "    features=[\n",
    "        \"Power (kW)\",\n",
    "        \"Wind speed (m/s)\",\n",
    "        \"Wind direction (°)\",\n",
    "        \"Rotor speed (RPM)\",\n",
    "    ],\n",
    "    rename_features=[\n",
    "        \"power\",\n",
    "        \"wind_speed\",\n",
    "        \"wind_direction\",\n",
    "        \"rotor_speed\",\n",
    "    ],\n",
    ")\n",
    "data_brit = cleaner.transform(data_brit)\n",
    "\n",
    "# create train and test set (exactly as used in the benchmarks)\n",
    "test_start = benchmarks[\"test_start\"][0]\n",
    "test_end = benchmarks[\"test_end\"][0]\n",
    "X_train, y_train, X_test, y_test = train_test_split(\n",
    "    df=data_brit, test_start=test_start, test_end=test_end, target_var=\"power\"\n",
    ")"
   ]
  },
  {
   "cell_type": "code",
   "execution_count": null,
   "metadata": {},
   "outputs": [],
   "source": [
    "### hyperparameter tuning\n",
    "### RUNTIME: ~6 min on my machine\n",
    "do_gridsearch = False\n",
    "\n",
    "if do_gridsearch:\n",
    "\n",
    "    grid_search = RandomizedSearchCV(\n",
    "        estimator=model,\n",
    "        param_distributions=param_grid,\n",
    "        scoring=\"neg_root_mean_squared_error\",\n",
    "        cv=TimeSeriesSplit(n_splits=3),\n",
    "        verbose=2,\n",
    "        n_jobs=-1,\n",
    "        n_iter=15,\n",
    "        refit=False,\n",
    "    )\n",
    "\n",
    "    grid_search.fit(X_train, y_train)\n",
    "    res_gs_brit = pd.DataFrame(grid_search.cv_results_)\n",
    "    ### store results in csv-file\n",
    "    pd.DataFrame(res_gs_brit).to_csv(\"../results/results_gs_xgb_brit.csv\")\n",
    "    # reload necessary \n",
    "    res_gs_brit = pd.read_csv(\"../results/results_gs_xgb_brit.csv\")\n",
    "else:\n",
    "    res_gs_brit = pd.read_csv(\"../results/results_gs_xgb_brit.csv\")"
   ]
  },
  {
   "cell_type": "code",
   "execution_count": null,
   "metadata": {},
   "outputs": [],
   "source": [
    "vis.plot_gridsearch_results(\n",
    "    res_gs_brit, x=\"param_st__horizon\", hue=\"param_st__window_size\", col=None\n",
    ")"
   ]
  },
  {
   "cell_type": "code",
   "execution_count": null,
   "metadata": {},
   "outputs": [],
   "source": [
    "### extract best parameters of each model for each horizon\n",
    "best_params_brit_xgb = (\n",
    "    res_gs_brit.set_index([\"params\"])[[\"mean_test_score\", \"param_st__horizon\"]]\n",
    "    .groupby(\"param_st__horizon\")\n",
    "    .idxmax()\n",
    ")\n",
    "\n",
    "# print best parameters for each horizon\n",
    "for horizon in best_params_brit_xgb.index:\n",
    "    print(\n",
    "        f\"Best parameters for horizon {horizon}: {ast.literal_eval(best_params_brit_xgb.loc[horizon][0])}\"\n",
    "    )"
   ]
  },
  {
   "cell_type": "markdown",
   "metadata": {},
   "source": [
    "## Brazilian Dataset - Beberine"
   ]
  },
  {
   "cell_type": "code",
   "execution_count": 3,
   "metadata": {},
   "outputs": [],
   "source": [
    "### loading data\n",
    "TURBINE_ID = 1\n",
    "data_braz = load_data(turbine_id=TURBINE_ID, which_data=\"Brazilian\")\n",
    "\n",
    "### cleaning data \n",
    "cleaner = DataCleaner(\n",
    "    features=[\n",
    "        \"active_power_total\",\n",
    "        \"wind_speed\",\n",
    "        \"wind_direction\",\n",
    "        \"rotor_rpm\",\n",
    "    ],\n",
    "    rename_features=[\n",
    "        \"power\",\n",
    "        \"wind_speed\",\n",
    "        \"wind_direction\",\n",
    "        \"rotor_speed\",\n",
    "    ],\n",
    ")\n",
    "data_braz = cleaner.transform(data_braz)\n",
    "\n",
    "# create train and test set (exactly as used in the benchmarks)\n",
    "test_start = benchmarks[\"test_start\"][3]\n",
    "test_end = benchmarks[\"test_end\"][3]\n",
    "X_train, y_train, X_test, y_test = train_test_split(\n",
    "    df=data_braz, test_start=test_start, test_end=test_end, target_var=\"power\"\n",
    ")"
   ]
  },
  {
   "cell_type": "code",
   "execution_count": 4,
   "metadata": {},
   "outputs": [],
   "source": [
    "### hyperparameter tuning\n",
    "### RUNTIME: ~ 10 min on my machine\n",
    "do_gridsearch = False\n",
    "\n",
    "if do_gridsearch:\n",
    "    grid_search = RandomizedSearchCV(\n",
    "        estimator=model,\n",
    "        param_distributions=param_grid,\n",
    "        scoring=\"neg_root_mean_squared_error\",\n",
    "        cv=TimeSeriesSplit(n_splits=3),\n",
    "        verbose=2,\n",
    "        n_jobs=-1,\n",
    "        n_iter=15, \n",
    "        refit=False,\n",
    "    )\n",
    "    grid_search.fit(X_train, y_train)\n",
    "    res_gs_braz = pd.DataFrame(grid_search.cv_results_)\n",
    "    ### store results in csv-file\n",
    "    pd.DataFrame(res_gs_braz).to_csv(\"../results/results_gs_xgb_braz.csv\")\n",
    "    # reload sometimes necessary for data type reasons\n",
    "    res_gs_braz = pd.read_csv(\"../results/results_gs_xgb_braz.csv\")\n",
    "else:\n",
    "    res_gs_braz = pd.read_csv(\"../results/results_gs_xgb_braz.csv\")"
   ]
  },
  {
   "cell_type": "code",
   "execution_count": 5,
   "metadata": {},
   "outputs": [
    {
     "name": "stderr",
     "output_type": "stream",
     "text": [
      "/Users/haraldkugler/miniconda3/envs/res_env/lib/python3.11/site-packages/seaborn/axisgrid.py:118: UserWarning: The figure layout has changed to tight\n",
      "  self._figure.tight_layout(*args, **kwargs)\n"
     ]
    },
    {
     "data": {
      "image/png": "[encoded data removed]",
      "text/plain": [
       "<Figure size 1681.36x500 with 3 Axes>"
      ]
     },
     "metadata": {},
     "output_type": "display_data"
    }
   ],
   "source": [
    "vis.plot_gridsearch_results(res_gs_braz, x=\"param_xgb__n_estimators\", hue=\"param_xgb__max_depth\")"
   ]
  },
  {
   "cell_type": "code",
   "execution_count": 7,
   "metadata": {},
   "outputs": [
    {
     "name": "stdout",
     "output_type": "stream",
     "text": [
      "Best parameters for horizon 10min: {'xgb__n_estimators': 100, 'xgb__min_child_weight': 2, 'xgb__max_depth': 3, 'xgb__learning_rate': 0.3, 'st__window_size': 8, 'st__horizon': '10min'}\n",
      "Best parameters for horizon daily: {'xgb__n_estimators': 100, 'xgb__min_child_weight': 1, 'xgb__max_depth': 6, 'xgb__learning_rate': 0.01, 'st__window_size': 8, 'st__horizon': 'daily'}\n",
      "Best parameters for horizon hourly: {'xgb__n_estimators': 100, 'xgb__min_child_weight': 4, 'xgb__max_depth': 3, 'xgb__learning_rate': 0.2, 'st__window_size': 8, 'st__horizon': 'hourly'}\n"
     ]
    }
   ],
   "source": [
    "### extract best parameters of each model for each horizon\n",
    "best_params_braz_xgb = (\n",
    "    res_gs_braz.set_index([\"params\"])[[\"mean_test_score\", \"param_st__horizon\"]]\n",
    "    .groupby(\"param_st__horizon\")\n",
    "    .idxmax()\n",
    ")\n",
    "\n",
    "# print best parameters for each horizon\n",
    "for horizon in best_params_braz_xgb.index:\n",
    "    print(\n",
    "        f\"Best parameters for horizon {horizon}: {ast.literal_eval(best_params_braz_xgb.loc[horizon][0])}\"\n",
    "    )"
   ]
  },
  {
   "cell_type": "code",
   "execution_count": 8,
   "metadata": {},
   "outputs": [
    {
     "ename": "",
     "evalue": "",
     "output_type": "error",
     "traceback": [
      "\u001b[1;31mThe Kernel crashed while executing code in the the current cell or a previous cell. Please review the code in the cell(s) to identify a possible cause of the failure. Click <a href='https://aka.ms/vscodeJupyterKernelCrash'>here</a> for more info. View Jupyter <a href='command:jupyter.viewOutput'>log</a> for further details."
     ]
    }
   ],
   "source": [
    "### plot predictions for best models\n",
    "# refit models\n",
    "models = {}\n",
    "predictions = {}\n",
    "for horizon in [\"10min\", \"hourly\", \"daily\"]:\n",
    "    models[horizon] = clone(model).set_params(\n",
    "        **ast.literal_eval(best_params_braz_xgb.loc[horizon][0])\n",
    "    )\n",
    "    models[horizon].fit(X_train, y_train)\n",
    "    predictions[horizon] = models[horizon].predict(X_test)\n",
    "predictions = pd.DataFrame(predictions, index=X_test.index)"
   ]
  },
  {
   "cell_type": "code",
   "execution_count": null,
   "metadata": {},
   "outputs": [],
   "source": [
    "# plot first 3000 predictions\n",
    "vis.plot_predictions(predictions[:3000], y_test[:3000])"
   ]
  }
 ],
 "metadata": {
  "kernelspec": {
   "display_name": "res_env",
   "language": "python",
   "name": "python3"
  },
  "language_info": {
   "codemirror_mode": {
    "name": "ipython",
    "version": 3
   },
   "file_extension": ".py",
   "mimetype": "text/x-python",
   "name": "python",
   "nbconvert_exporter": "python",
   "pygments_lexer": "ipython3",
   "version": "3.11.4"
  },
  "orig_nbformat": 4
 },
 "nbformat": 4,
 "nbformat_minor": 2
}
