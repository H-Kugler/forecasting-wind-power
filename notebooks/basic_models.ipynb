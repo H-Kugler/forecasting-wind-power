{
 "cells": [
  {
   "cell_type": "code",
   "execution_count": 11,
   "metadata": {},
   "outputs": [],
   "source": [
    "# imports \n",
    "import numpy as np\n",
    "import pandas as pd\n",
    "from sklearn.metrics import mean_squared_error, median_absolute_error\n",
    "\n",
    "import sys\n",
    "sys.path.append('..')\n",
    "sys.path.append('../src')\n",
    "from src.DataHandling.processing import supervised_transform\n",
    "import src.DataHandling.visualization as vis\n",
    "\n",
    "from src.Models.baseline import Baseline"
   ]
  },
  {
   "cell_type": "code",
   "execution_count": 12,
   "metadata": {},
   "outputs": [
    {
     "data": {
      "text/html": [
       "<div>\n",
       "<style scoped>\n",
       "    .dataframe tbody tr th:only-of-type {\n",
       "        vertical-align: middle;\n",
       "    }\n",
       "\n",
       "    .dataframe tbody tr th {\n",
       "        vertical-align: top;\n",
       "    }\n",
       "\n",
       "    .dataframe thead th {\n",
       "        text-align: right;\n",
       "    }\n",
       "</style>\n",
       "<table border=\"1\" class=\"dataframe\">\n",
       "  <thead>\n",
       "    <tr style=\"text-align: right;\">\n",
       "      <th></th>\n",
       "      <th>name</th>\n",
       "      <th>RMSE</th>\n",
       "      <th>MAE</th>\n",
       "      <th>horizon</th>\n",
       "      <th>test_start</th>\n",
       "      <th>test_end</th>\n",
       "    </tr>\n",
       "  </thead>\n",
       "  <tbody>\n",
       "    <tr>\n",
       "      <th>0</th>\n",
       "      <td>Kelmarsh_2</td>\n",
       "      <td>145.602811</td>\n",
       "      <td>91.553768</td>\n",
       "      <td>10min</td>\n",
       "      <td>2020-07-01</td>\n",
       "      <td>2021-06-30 23:50:00</td>\n",
       "    </tr>\n",
       "    <tr>\n",
       "      <th>1</th>\n",
       "      <td>Kelmarsh_2</td>\n",
       "      <td>263.749456</td>\n",
       "      <td>183.285915</td>\n",
       "      <td>hourly</td>\n",
       "      <td>2020-07-01</td>\n",
       "      <td>2021-06-30 23:50:00</td>\n",
       "    </tr>\n",
       "    <tr>\n",
       "      <th>2</th>\n",
       "      <td>Kelmarsh_2</td>\n",
       "      <td>623.023208</td>\n",
       "      <td>510.709616</td>\n",
       "      <td>daily</td>\n",
       "      <td>2020-07-01</td>\n",
       "      <td>2021-06-30 23:50:00</td>\n",
       "    </tr>\n",
       "    <tr>\n",
       "      <th>3</th>\n",
       "      <td>Turbine 1, Beberibe</td>\n",
       "      <td>55.417200</td>\n",
       "      <td>36.244988</td>\n",
       "      <td>10min</td>\n",
       "      <td>2014-05-18 18:50:00</td>\n",
       "      <td>2014-07-31 23:50:00</td>\n",
       "    </tr>\n",
       "    <tr>\n",
       "      <th>4</th>\n",
       "      <td>Turbine 1, Beberibe</td>\n",
       "      <td>119.249865</td>\n",
       "      <td>81.943719</td>\n",
       "      <td>hourly</td>\n",
       "      <td>2014-05-18 18:50:00</td>\n",
       "      <td>2014-07-31 23:50:00</td>\n",
       "    </tr>\n",
       "    <tr>\n",
       "      <th>5</th>\n",
       "      <td>Turbine 1, Beberibe</td>\n",
       "      <td>196.741606</td>\n",
       "      <td>151.508157</td>\n",
       "      <td>daily</td>\n",
       "      <td>2014-05-18 18:50:00</td>\n",
       "      <td>2014-07-31 23:50:00</td>\n",
       "    </tr>\n",
       "  </tbody>\n",
       "</table>\n",
       "</div>"
      ],
      "text/plain": [
       "                  name        RMSE         MAE horizon           test_start  \\\n",
       "0           Kelmarsh_2  145.602811   91.553768   10min           2020-07-01   \n",
       "1           Kelmarsh_2  263.749456  183.285915  hourly           2020-07-01   \n",
       "2           Kelmarsh_2  623.023208  510.709616   daily           2020-07-01   \n",
       "3  Turbine 1, Beberibe   55.417200   36.244988   10min  2014-05-18 18:50:00   \n",
       "4  Turbine 1, Beberibe  119.249865   81.943719  hourly  2014-05-18 18:50:00   \n",
       "5  Turbine 1, Beberibe  196.741606  151.508157   daily  2014-05-18 18:50:00   \n",
       "\n",
       "              test_end  \n",
       "0  2021-06-30 23:50:00  \n",
       "1  2021-06-30 23:50:00  \n",
       "2  2021-06-30 23:50:00  \n",
       "3  2014-07-31 23:50:00  \n",
       "4  2014-07-31 23:50:00  \n",
       "5  2014-07-31 23:50:00  "
      ]
     },
     "execution_count": 12,
     "metadata": {},
     "output_type": "execute_result"
    }
   ],
   "source": [
    "TURBINE_ID_BRITISH = 2 ### set turbine id here, nb: you have to run the notebook 'data_inspection.ipynb' first\n",
    "TURBINE_ID_BRAZILIAN = 1 ### set turbine id here, nb: you have to run the notebook 'data_inspection.ipynb' first\n",
    "HORIZONS = ['10min', 'Hourly', 'Daily']\n",
    "BENCHMARKS = pd.read_csv('../results_wind.csv')\n",
    "BENCHMARKS"
   ]
  },
  {
   "cell_type": "code",
   "execution_count": 13,
   "metadata": {},
   "outputs": [],
   "source": [
    "results_brit = pd.DataFrame(data={'Horizon': HORIZONS, 'RMSE': BENCHMARKS['RMSE'][0:3], 'MAE': BENCHMARKS['MAE'][0:3]})\n",
    "results_brit = pd.melt(results_brit, id_vars=['Horizon'], value_vars=['RMSE', 'MAE'], value_name='Benchmark', var_name='Metric', )\n",
    "\n",
    "results_braz = pd.DataFrame(data={'Horizon': HORIZONS, 'RMSE': BENCHMARKS['RMSE'][3:6], 'MAE': BENCHMARKS['MAE'][3:6]})\n",
    "results_braz = pd.melt(results_braz, id_vars=['Horizon'], value_vars=['RMSE', 'MAE'], value_name='Benchmark', var_name='Metric')"
   ]
  },
  {
   "cell_type": "code",
   "execution_count": 14,
   "metadata": {},
   "outputs": [],
   "source": [
    "# load cleaned data\n",
    "turbine_two = pd.read_csv(f'../data/cleaned/turbine_brit_{TURBINE_ID_BRITISH}.csv')\n",
    "\n",
    "# use date column as index and convert to datetime\n",
    "turbine_two['Date'] = pd.to_datetime(turbine_two['Date'])\n",
    "turbine_two.set_index('Date', inplace=True)\n",
    "#turbine_two.head()"
   ]
  },
  {
   "cell_type": "code",
   "execution_count": 15,
   "metadata": {},
   "outputs": [],
   "source": [
    "# transform data into a supervised learning problem\n",
    "X, y = supervised_transform(df=turbine_two, target_var=\"Power (kW)\", time_steps_ahead=1, window_size=5)"
   ]
  },
  {
   "cell_type": "code",
   "execution_count": 16,
   "metadata": {},
   "outputs": [
    {
     "data": {
      "text/plain": [
       "((218818, 45), (218818,), (50451, 45), (50451,))"
      ]
     },
     "execution_count": 16,
     "metadata": {},
     "output_type": "execute_result"
    }
   ],
   "source": [
    "# create train and test set\n",
    "test_start_brit = pd.to_datetime(BENCHMARKS['test_start'][0])\n",
    "test_end_brit = pd.to_datetime(BENCHMARKS['test_end'][0])\n",
    "test_start_braz = pd.to_datetime(BENCHMARKS['test_start'][3]) \n",
    "test_end_braz = pd.to_datetime(BENCHMARKS['test_end'][3])\n",
    "\n",
    "X_train, X_test = X.loc[:test_start_brit], X.loc[test_start_brit:test_end_brit]\n",
    "y_train, y_test = y.loc[:test_start_brit], y.loc[test_start_brit:test_end_brit]\n",
    "\n",
    "X_train.shape, y_train.shape, X_test.shape, y_test.shape"
   ]
  },
  {
   "cell_type": "markdown",
   "metadata": {},
   "source": [
    "# 1. Baseline Model\n",
    "\n",
    "The simplest model involves using the latest available value as prediction, which, in our scenario, is stored in the 'Power (kW) (time -1)' column."
   ]
  },
  {
   "cell_type": "code",
   "execution_count": 17,
   "metadata": {},
   "outputs": [],
   "source": [
    "res = []\n",
    "predictions = []\n",
    "\n",
    "for horizon in HORIZONS:\n",
    "    model = Baseline(data=turbine_two, horizon=horizon)\n",
    "    model.fit(test_start=test_start_brit, test_end=test_end_brit)\n",
    "    preds = model.predict()\n",
    "    rmse = np.sqrt(mean_squared_error(y_true=model.y_test, y_pred=preds))\n",
    "    mae = median_absolute_error(y_true=model.y_test, y_pred=preds)\n",
    "    res.append([rmse, mae])\n",
    "    predictions.append(preds)\n",
    "\n",
    "results_brit['Baseline'] = np.ravel(np.array(res), order='F')"
   ]
  },
  {
   "cell_type": "code",
   "execution_count": 18,
   "metadata": {},
   "outputs": [
    {
     "data": {
      "image/png": "[encoded data removed]",
      "text/plain": [
       "<Figure size 1629.25x500 with 3 Axes>"
      ]
     },
     "metadata": {},
     "output_type": "display_data"
    }
   ],
   "source": [
    "vis.barplot_errors(df=results_brit, models=['Benchmark', 'Baseline'])"
   ]
  },
  {
   "cell_type": "markdown",
   "metadata": {},
   "source": [
    "**Analysis:**"
   ]
  },
  {
   "cell_type": "markdown",
   "metadata": {},
   "source": [
    "# 2. Moving Average\n",
    "\n",
    "**Explanation of the Model:**"
   ]
  },
  {
   "cell_type": "code",
   "execution_count": null,
   "metadata": {},
   "outputs": [],
   "source": []
  },
  {
   "cell_type": "markdown",
   "metadata": {},
   "source": [
    "# 3. Different kinds of Linear Regression"
   ]
  },
  {
   "cell_type": "markdown",
   "metadata": {},
   "source": []
  }
 ],
 "metadata": {
  "kernelspec": {
   "display_name": "res_env",
   "language": "python",
   "name": "python3"
  },
  "language_info": {
   "codemirror_mode": {
    "name": "ipython",
    "version": 3
   },
   "file_extension": ".py",
   "mimetype": "text/x-python",
   "name": "python",
   "nbconvert_exporter": "python",
   "pygments_lexer": "ipython3",
   "version": "3.10.0"
  },
  "orig_nbformat": 4
 },
 "nbformat": 4,
 "nbformat_minor": 2
}
