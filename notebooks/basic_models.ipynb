{
 "cells": [
  {
   "cell_type": "code",
   "execution_count": 1,
   "metadata": {},
   "outputs": [],
   "source": [
    "# imports\n",
    "import numpy as np\n",
    "import pandas as pd\n",
    "from sklearn.metrics import mean_squared_error, median_absolute_error\n",
    "\n",
    "import sys\n",
    "\n",
    "sys.path.append(\"..\")\n",
    "sys.path.append(\"../src\")\n",
    "from src.DataHandling.processing import supervised_transform\n",
    "import src.DataHandling.visualization as vis\n",
    "\n",
    "# models\n",
    "from src.Models.baseline import Baseline\n",
    "from src.Models.ma import MovingAverage\n",
    "from src.Models.lr import Regression"
   ]
  },
  {
   "cell_type": "code",
   "execution_count": 2,
   "metadata": {},
   "outputs": [
    {
     "data": {
      "text/html": [
       "<div>\n",
       "<style scoped>\n",
       "    .dataframe tbody tr th:only-of-type {\n",
       "        vertical-align: middle;\n",
       "    }\n",
       "\n",
       "    .dataframe tbody tr th {\n",
       "        vertical-align: top;\n",
       "    }\n",
       "\n",
       "    .dataframe thead th {\n",
       "        text-align: right;\n",
       "    }\n",
       "</style>\n",
       "<table border=\"1\" class=\"dataframe\">\n",
       "  <thead>\n",
       "    <tr style=\"text-align: right;\">\n",
       "      <th></th>\n",
       "      <th>name</th>\n",
       "      <th>RMSE</th>\n",
       "      <th>MAE</th>\n",
       "      <th>horizon</th>\n",
       "      <th>test_start</th>\n",
       "      <th>test_end</th>\n",
       "    </tr>\n",
       "  </thead>\n",
       "  <tbody>\n",
       "    <tr>\n",
       "      <th>0</th>\n",
       "      <td>Kelmarsh_2</td>\n",
       "      <td>145.602811</td>\n",
       "      <td>91.553768</td>\n",
       "      <td>10min</td>\n",
       "      <td>2020-07-01</td>\n",
       "      <td>2021-06-30 23:50:00</td>\n",
       "    </tr>\n",
       "    <tr>\n",
       "      <th>1</th>\n",
       "      <td>Kelmarsh_2</td>\n",
       "      <td>263.749456</td>\n",
       "      <td>183.285915</td>\n",
       "      <td>hourly</td>\n",
       "      <td>2020-07-01</td>\n",
       "      <td>2021-06-30 23:50:00</td>\n",
       "    </tr>\n",
       "    <tr>\n",
       "      <th>2</th>\n",
       "      <td>Kelmarsh_2</td>\n",
       "      <td>623.023208</td>\n",
       "      <td>510.709616</td>\n",
       "      <td>daily</td>\n",
       "      <td>2020-07-01</td>\n",
       "      <td>2021-06-30 23:50:00</td>\n",
       "    </tr>\n",
       "    <tr>\n",
       "      <th>3</th>\n",
       "      <td>Turbine 1, Beberibe</td>\n",
       "      <td>55.417200</td>\n",
       "      <td>36.244988</td>\n",
       "      <td>10min</td>\n",
       "      <td>2014-05-18 18:50:00</td>\n",
       "      <td>2014-07-31 23:50:00</td>\n",
       "    </tr>\n",
       "    <tr>\n",
       "      <th>4</th>\n",
       "      <td>Turbine 1, Beberibe</td>\n",
       "      <td>119.249865</td>\n",
       "      <td>81.943719</td>\n",
       "      <td>hourly</td>\n",
       "      <td>2014-05-18 18:50:00</td>\n",
       "      <td>2014-07-31 23:50:00</td>\n",
       "    </tr>\n",
       "    <tr>\n",
       "      <th>5</th>\n",
       "      <td>Turbine 1, Beberibe</td>\n",
       "      <td>196.741606</td>\n",
       "      <td>151.508157</td>\n",
       "      <td>daily</td>\n",
       "      <td>2014-05-18 18:50:00</td>\n",
       "      <td>2014-07-31 23:50:00</td>\n",
       "    </tr>\n",
       "  </tbody>\n",
       "</table>\n",
       "</div>"
      ],
      "text/plain": [
       "                  name        RMSE         MAE horizon           test_start  \\\n",
       "0           Kelmarsh_2  145.602811   91.553768   10min           2020-07-01   \n",
       "1           Kelmarsh_2  263.749456  183.285915  hourly           2020-07-01   \n",
       "2           Kelmarsh_2  623.023208  510.709616   daily           2020-07-01   \n",
       "3  Turbine 1, Beberibe   55.417200   36.244988   10min  2014-05-18 18:50:00   \n",
       "4  Turbine 1, Beberibe  119.249865   81.943719  hourly  2014-05-18 18:50:00   \n",
       "5  Turbine 1, Beberibe  196.741606  151.508157   daily  2014-05-18 18:50:00   \n",
       "\n",
       "              test_end  \n",
       "0  2021-06-30 23:50:00  \n",
       "1  2021-06-30 23:50:00  \n",
       "2  2021-06-30 23:50:00  \n",
       "3  2014-07-31 23:50:00  \n",
       "4  2014-07-31 23:50:00  \n",
       "5  2014-07-31 23:50:00  "
      ]
     },
     "execution_count": 2,
     "metadata": {},
     "output_type": "execute_result"
    }
   ],
   "source": [
    "TURBINE_ID_BRITISH = 2  ### set turbine id here, nb: you have to run the notebook 'data_inspection.ipynb' first\n",
    "TURBINE_ID_BRAZILIAN = 1  ### set turbine id here, nb: you have to run the notebook 'data_inspection.ipynb' first\n",
    "HORIZONS = [\"10min\", \"Hourly\", \"Daily\"]\n",
    "BENCHMARKS = pd.read_csv(\"../results_wind.csv\")\n",
    "BENCHMARKS"
   ]
  },
  {
   "cell_type": "code",
   "execution_count": 3,
   "metadata": {},
   "outputs": [],
   "source": [
    "### create results dataframes for each turbine\n",
    "\n",
    "results_brit = pd.DataFrame(\n",
    "    data={\n",
    "        \"Horizon\": HORIZONS,\n",
    "        \"RMSE\": BENCHMARKS[\"RMSE\"][0:3],\n",
    "        \"MAE\": BENCHMARKS[\"MAE\"][0:3],\n",
    "    }\n",
    ")\n",
    "results_brit = pd.melt(\n",
    "    results_brit,\n",
    "    id_vars=[\"Horizon\"],\n",
    "    value_vars=[\"RMSE\", \"MAE\"],\n",
    "    value_name=\"Benchmark\",\n",
    "    var_name=\"Metric\",\n",
    ")\n",
    "\n",
    "results_braz = pd.DataFrame(\n",
    "    data={\n",
    "        \"Horizon\": HORIZONS,\n",
    "        \"RMSE\": BENCHMARKS[\"RMSE\"][3:6],\n",
    "        \"MAE\": BENCHMARKS[\"MAE\"][3:6],\n",
    "    }\n",
    ")\n",
    "results_braz = pd.melt(\n",
    "    results_braz,\n",
    "    id_vars=[\"Horizon\"],\n",
    "    value_vars=[\"RMSE\", \"MAE\"],\n",
    "    value_name=\"Benchmark\",\n",
    "    var_name=\"Metric\",\n",
    ")"
   ]
  },
  {
   "cell_type": "code",
   "execution_count": 4,
   "metadata": {},
   "outputs": [],
   "source": [
    "# load cleaned data\n",
    "turbine_brit = pd.read_csv(f\"../data/cleaned/turbine_brit_{TURBINE_ID_BRITISH}.csv\")\n",
    "\n",
    "# use date column as index and convert to datetime\n",
    "turbine_brit[\"Date\"] = pd.to_datetime(turbine_brit[\"Date\"])\n",
    "turbine_brit.set_index(\"Date\", inplace=True)\n",
    "# turbine_two.head()"
   ]
  },
  {
   "cell_type": "code",
   "execution_count": 5,
   "metadata": {},
   "outputs": [],
   "source": [
    "# transform data into a supervised learning problem\n",
    "X, y = supervised_transform(\n",
    "    df=turbine_brit, target_var=\"Power (kW)\", time_steps_ahead=1, window_size=5\n",
    ")"
   ]
  },
  {
   "cell_type": "code",
   "execution_count": 6,
   "metadata": {},
   "outputs": [
    {
     "data": {
      "text/plain": [
       "((218818, 45), (218818,), (50451, 45), (50451,))"
      ]
     },
     "execution_count": 6,
     "metadata": {},
     "output_type": "execute_result"
    }
   ],
   "source": [
    "# create train and test set\n",
    "test_start_brit = pd.to_datetime(BENCHMARKS[\"test_start\"][0])\n",
    "test_end_brit = pd.to_datetime(BENCHMARKS[\"test_end\"][0])\n",
    "test_start_braz = pd.to_datetime(BENCHMARKS[\"test_start\"][3])\n",
    "test_end_braz = pd.to_datetime(BENCHMARKS[\"test_end\"][3])\n",
    "\n",
    "X_train, X_test = X.loc[:test_start_brit], X.loc[test_start_brit:test_end_brit]\n",
    "y_train, y_test = y.loc[:test_start_brit], y.loc[test_start_brit:test_end_brit]\n",
    "\n",
    "X_train.shape, y_train.shape, X_test.shape, y_test.shape"
   ]
  },
  {
   "cell_type": "markdown",
   "metadata": {},
   "source": [
    "# 1. Baseline Model\n",
    "\n",
    "The simplest model involves using the latest available value as prediction, which, in our scenario, is stored in the 'Power (kW) (time -1)' column."
   ]
  },
  {
   "cell_type": "code",
   "execution_count": 7,
   "metadata": {},
   "outputs": [],
   "source": [
    "res = []\n",
    "predictions = []\n",
    "\n",
    "for horizon in HORIZONS:\n",
    "    model = Baseline(data=turbine_brit, horizon=horizon)\n",
    "    model.fit(test_start=test_start_brit, test_end=test_end_brit)\n",
    "    preds = model.predict()\n",
    "    rmse = np.sqrt(mean_squared_error(y_true=model.y_test, y_pred=preds))\n",
    "    mae = median_absolute_error(y_true=model.y_test, y_pred=preds)\n",
    "    res.append([rmse, mae])\n",
    "    predictions.append(preds)\n",
    "\n",
    "results_brit[\"Baseline\"] = np.ravel(np.array(res), order=\"F\")"
   ]
  },
  {
   "cell_type": "markdown",
   "metadata": {},
   "source": [
    "# 2. Moving Average\n",
    "\n",
    "**Explanation of the Model:**"
   ]
  },
  {
   "cell_type": "code",
   "execution_count": 8,
   "metadata": {},
   "outputs": [],
   "source": [
    "res = []\n",
    "predictions = []\n",
    "\n",
    "for horizon in HORIZONS:\n",
    "    model = MovingAverage(\n",
    "        data=turbine_brit, horizon=horizon, window_size=5, discount=0.9\n",
    "    )\n",
    "    model.fit(test_start=test_start_brit, test_end=test_end_brit)\n",
    "    preds = model.predict()\n",
    "    rmse = np.sqrt(mean_squared_error(y_true=model.y_test, y_pred=preds))\n",
    "    mae = median_absolute_error(y_true=model.y_test, y_pred=preds)\n",
    "    res.append([rmse, mae])\n",
    "    predictions.append(preds)\n",
    "\n",
    "results_brit[\"Moving Average\"] = np.ravel(np.array(res), order=\"F\")"
   ]
  },
  {
   "cell_type": "markdown",
   "metadata": {},
   "source": [
    "# 3. Different kinds of Linear Regression"
   ]
  },
  {
   "cell_type": "code",
   "execution_count": 15,
   "metadata": {},
   "outputs": [
    {
     "name": "stderr",
     "output_type": "stream",
     "text": [
      "/opt/miniconda3/envs/res_env/lib/python3.10/site-packages/sklearn/linear_model/_coordinate_descent.py:631: ConvergenceWarning: Objective did not converge. You might want to increase the number of iterations, check the scale of the features or consider increasing regularisation. Duality gap: 2.602e+07, tolerance: 8.852e+06\n",
      "  model = cd_fast.enet_coordinate_descent(\n",
      "/opt/miniconda3/envs/res_env/lib/python3.10/site-packages/sklearn/linear_model/_coordinate_descent.py:631: ConvergenceWarning: Objective did not converge. You might want to increase the number of iterations, check the scale of the features or consider increasing regularisation. Duality gap: 3.621e+08, tolerance: 8.852e+06\n",
      "  model = cd_fast.enet_coordinate_descent(\n"
     ]
    },
    {
     "data": {
      "text/html": [
       "<div>\n",
       "<style scoped>\n",
       "    .dataframe tbody tr th:only-of-type {\n",
       "        vertical-align: middle;\n",
       "    }\n",
       "\n",
       "    .dataframe tbody tr th {\n",
       "        vertical-align: top;\n",
       "    }\n",
       "\n",
       "    .dataframe thead th {\n",
       "        text-align: right;\n",
       "    }\n",
       "</style>\n",
       "<table border=\"1\" class=\"dataframe\">\n",
       "  <thead>\n",
       "    <tr style=\"text-align: right;\">\n",
       "      <th></th>\n",
       "      <th>Horizon</th>\n",
       "      <th>Metric</th>\n",
       "      <th>Benchmark</th>\n",
       "      <th>Baseline</th>\n",
       "      <th>Moving Average</th>\n",
       "      <th>linear</th>\n",
       "      <th>ridge</th>\n",
       "      <th>lasso</th>\n",
       "    </tr>\n",
       "  </thead>\n",
       "  <tbody>\n",
       "    <tr>\n",
       "      <th>0</th>\n",
       "      <td>10min</td>\n",
       "      <td>RMSE</td>\n",
       "      <td>145.602811</td>\n",
       "      <td>149.296785</td>\n",
       "      <td>174.491725</td>\n",
       "      <td>166.430324</td>\n",
       "      <td>154.275443</td>\n",
       "      <td>145.077662</td>\n",
       "    </tr>\n",
       "    <tr>\n",
       "      <th>1</th>\n",
       "      <td>Hourly</td>\n",
       "      <td>RMSE</td>\n",
       "      <td>263.749456</td>\n",
       "      <td>271.336872</td>\n",
       "      <td>267.049712</td>\n",
       "      <td>265.323893</td>\n",
       "      <td>262.901718</td>\n",
       "      <td>256.718897</td>\n",
       "    </tr>\n",
       "    <tr>\n",
       "      <th>2</th>\n",
       "      <td>Daily</td>\n",
       "      <td>RMSE</td>\n",
       "      <td>623.023208</td>\n",
       "      <td>755.568859</td>\n",
       "      <td>748.407836</td>\n",
       "      <td>630.175835</td>\n",
       "      <td>629.963393</td>\n",
       "      <td>619.106532</td>\n",
       "    </tr>\n",
       "    <tr>\n",
       "      <th>3</th>\n",
       "      <td>10min</td>\n",
       "      <td>MAE</td>\n",
       "      <td>91.553768</td>\n",
       "      <td>48.056987</td>\n",
       "      <td>62.864728</td>\n",
       "      <td>53.811435</td>\n",
       "      <td>53.482724</td>\n",
       "      <td>51.756004</td>\n",
       "    </tr>\n",
       "    <tr>\n",
       "      <th>4</th>\n",
       "      <td>Hourly</td>\n",
       "      <td>MAE</td>\n",
       "      <td>183.285915</td>\n",
       "      <td>101.282118</td>\n",
       "      <td>102.119498</td>\n",
       "      <td>120.063973</td>\n",
       "      <td>120.198919</td>\n",
       "      <td>119.279233</td>\n",
       "    </tr>\n",
       "    <tr>\n",
       "      <th>5</th>\n",
       "      <td>Daily</td>\n",
       "      <td>MAE</td>\n",
       "      <td>510.709616</td>\n",
       "      <td>377.401279</td>\n",
       "      <td>376.509077</td>\n",
       "      <td>441.819510</td>\n",
       "      <td>441.690612</td>\n",
       "      <td>440.123284</td>\n",
       "    </tr>\n",
       "  </tbody>\n",
       "</table>\n",
       "</div>"
      ],
      "text/plain": [
       "  Horizon Metric   Benchmark    Baseline  Moving Average      linear  \\\n",
       "0   10min   RMSE  145.602811  149.296785      174.491725  166.430324   \n",
       "1  Hourly   RMSE  263.749456  271.336872      267.049712  265.323893   \n",
       "2   Daily   RMSE  623.023208  755.568859      748.407836  630.175835   \n",
       "3   10min    MAE   91.553768   48.056987       62.864728   53.811435   \n",
       "4  Hourly    MAE  183.285915  101.282118      102.119498  120.063973   \n",
       "5   Daily    MAE  510.709616  377.401279      376.509077  441.819510   \n",
       "\n",
       "        ridge       lasso  \n",
       "0  154.275443  145.077662  \n",
       "1  262.901718  256.718897  \n",
       "2  629.963393  619.106532  \n",
       "3   53.482724   51.756004  \n",
       "4  120.198919  119.279233  \n",
       "5  441.690612  440.123284  "
      ]
     },
     "execution_count": 15,
     "metadata": {},
     "output_type": "execute_result"
    }
   ],
   "source": [
    "lrs = [\"linear\", \"ridge\", \"lasso\"]\n",
    "for lr in lrs:\n",
    "    res = []\n",
    "    predictions = []\n",
    "    for horizon in HORIZONS:\n",
    "        model = Regression(\n",
    "            data=turbine_brit, horizon=horizon, window_size=5, model=lr, alpha=1.2\n",
    "        )\n",
    "        model.fit(test_start=test_start_brit, test_end=test_end_brit)\n",
    "        preds = model.predict()\n",
    "        rmse = np.sqrt(mean_squared_error(y_true=model.y_test, y_pred=preds))\n",
    "        mae = median_absolute_error(y_true=model.y_test, y_pred=preds)\n",
    "        res.append([rmse, mae])\n",
    "        predictions.append(preds)\n",
    "\n",
    "    results_brit[lr] = np.ravel(np.array(res), order=\"F\")\n",
    "\n",
    "results_brit"
   ]
  },
  {
   "cell_type": "code",
   "execution_count": 16,
   "metadata": {},
   "outputs": [
    {
     "data": {
      "image/png": "[encoded data removed]",
      "text/plain": [
       "<Figure size 1661.87x500 with 3 Axes>"
      ]
     },
     "metadata": {},
     "output_type": "display_data"
    }
   ],
   "source": [
    "# plot results\n",
    "vis.barplot_errors(\n",
    "    df=results_brit,\n",
    "    models=[\"Benchmark\", \"Baseline\", \"Moving Average\", \"linear\", \"ridge\", \"lasso\"],\n",
    ")"
   ]
  },
  {
   "cell_type": "code",
   "execution_count": null,
   "metadata": {},
   "outputs": [],
   "source": []
  }
 ],
 "metadata": {
  "kernelspec": {
   "display_name": "res_env",
   "language": "python",
   "name": "python3"
  },
  "language_info": {
   "codemirror_mode": {
    "name": "ipython",
    "version": 3
   },
   "file_extension": ".py",
   "mimetype": "text/x-python",
   "name": "python",
   "nbconvert_exporter": "python",
   "pygments_lexer": "ipython3",
   "version": "3.10.0"
  },
  "orig_nbformat": 4
 },
 "nbformat": 4,
 "nbformat_minor": 2
}
